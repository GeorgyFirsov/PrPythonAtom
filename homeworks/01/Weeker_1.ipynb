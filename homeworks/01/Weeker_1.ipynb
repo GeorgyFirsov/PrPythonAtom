{
 "cells": [
  {
   "cell_type": "markdown",
   "metadata": {},
   "source": [
    "# Недельник 1\n",
    "\n",
    "Как было сказано на лекции, на текущей неделе вы получаете ежедневные задания. Система оценки следующая: в первый день(четверг) вы делаете первый pull-request в ветку homework_01. Потом каждый день делаете коммит, он будет автоматически привязывать к pull-request. Если задачка не сделана в течении 2-х дней она сгорает. (Можно четверг сделать в четверг и пятницу)"
   ]
  },
  {
   "cell_type": "markdown",
   "metadata": {},
   "source": [
    "# Четверг"
   ]
  },
  {
   "cell_type": "code",
   "execution_count": 64,
   "metadata": {},
   "outputs": [],
   "source": [
    "#TODO Сделайте калькулятор произвольных выражений, операции следующие: +, -, /, ^, *. скобок нет\n",
    "def calculate(input_str):\n",
    "    \n",
    "    try:\n",
    "        result = eval(input_str.replace('^', '**'))\n",
    "    except ZeroDivisionError:\n",
    "        print(\"Exception: ZeroDivisionError\")\n",
    "        return \"Error\"\n",
    "    \n",
    "    print(result)\n",
    "    \n",
    "    return result"
   ]
  },
  {
   "cell_type": "code",
   "execution_count": 65,
   "metadata": {},
   "outputs": [
    {
     "name": "stdout",
     "output_type": "stream",
     "text": [
      "6\n",
      "1449.0\n",
      "140\n",
      "192.0\n",
      "17\n",
      "-9\n",
      "Exception: ZeroDivisionError\n"
     ]
    }
   ],
   "source": [
    "assert calculate(\"2 + 2 * 2\") == 6\n",
    "assert calculate(\"345 / 5 * 21\") == 1449.\n",
    "assert calculate(\"3^3 - 10 + 41 * 3\") == 140.0\n",
    "assert calculate(\"42 / 7 * 32\") == 192.0\n",
    "\n",
    "#TODO Дополнить еще 2-мя своими тестами\n",
    "\n",
    "assert calculate(\"3^3 - 10\") == 17.0\n",
    "assert calculate(\"19 - 7 * 4\") == -9.0\n",
    "assert calculate(\"32/0 - 6\") == \"Error\""
   ]
  },
  {
   "cell_type": "markdown",
   "metadata": {},
   "source": [
    "# Пятница"
   ]
  },
  {
   "cell_type": "code",
   "execution_count": 60,
   "metadata": {},
   "outputs": [],
   "source": [
    "#TODO метод разворачивающий строку HE2LO -> HELLO (число означает сколько раз встречается буква)\n",
    "def transform_string(inp_string):\n",
    "    num = \"-1\"\n",
    "    result = \"\"\n",
    "    for i in range(0, len(inp_string)):\n",
    "        if(inp_string[i].isdigit()):\n",
    "            if(num == \"-1\"):\n",
    "                num = \"\"\n",
    "            num = num + inp_string[i]\n",
    "            i = i + 1\n",
    "            continue\n",
    "        if(inp_string[i].isdigit() == False):\n",
    "            if(num != \"-1\"):\n",
    "                for j in range(0, int(num)):\n",
    "                    result = result + inp_string[i]\n",
    "            if(num == \"-1\"):\n",
    "                    result = result + inp_string[i]\n",
    "        num = \"-1\"\n",
    "        \n",
    "    print(result)\n",
    "    \n",
    "    return result"
   ]
  },
  {
   "cell_type": "code",
   "execution_count": 61,
   "metadata": {},
   "outputs": [
    {
     "name": "stdout",
     "output_type": "stream",
     "text": [
      "HELLO\n",
      "HI\n",
      "приииииииииииивет\n",
      "ллуууннннннннннннннннннннннннннннннннннннннннннннннннннннннннннннннннннннннннннннннтттттттттттттттттттттттттттттттттттттттттттттттттттттттттттттттттик\n",
      "ggggghhhhhhhjjLL\n",
      "uuuuuuuuugfhHhHHHHHH\n",
      "uuuuuuuuugfhHh\n"
     ]
    }
   ],
   "source": [
    "assert transform_string(\"HE2LO\") == \"HELLO\"\n",
    "assert transform_string(\"HI\") == \"HI\"\n",
    "assert transform_string(\"пр12ивет\") == \"приииииииииииивет\"\n",
    "assert transform_string(\"2л3у78н65тик\") == 'ллуууннннннннннннннннннннннннннннннннннннннннннннннннннннннннннннннннннннннннннннннтттттттттттттттттттттттттттттттттттттттттттттттттттттттттттттттттик'\n",
    "\n",
    "#TODO Дописать 2 своих теста\n",
    "assert transform_string(\"5g7hjj2L\") == \"ggggghhhhhhhjjLL\"\n",
    "assert transform_string(\"9ugfhHh6H\") == \"uuuuuuuuugfhHhHHHHHH\"\n",
    "assert transform_string(\"9ugfhHh0H\") == \"uuuuuuuuugfhHh\""
   ]
  },
  {
   "cell_type": "markdown",
   "metadata": {},
   "source": [
    "# Суббота"
   ]
  },
  {
   "cell_type": "code",
   "execution_count": 3,
   "metadata": {},
   "outputs": [],
   "source": [
    "#TODO метод выводящий статистику по строке, кол-во гласных, согласных, цифр, строчных букв, прописных букв\n",
    "def string_stat(inp_string):\n",
    "    \n",
    "    countVOW = 0\n",
    "    countCON = 0\n",
    "    countDIG = 0\n",
    "    countLOW = 0\n",
    "    countCAP = 0\n",
    "    \n",
    "    vowel = set('уУеЕыЫаАоОэЭяЯиИюЮёЁ')                             #гласные\n",
    "    consonant = set('йЙцЦкКнНгГшШщЩзЗхХъЪфФвВпПрРлЛдДчЧсСмМтТьЬбБ') #согласные\n",
    "    digit = set('1234567890')                                       #цифры\n",
    "    lower = set('йцукенгшщзхъфывапролджэячсмитьбюё')                #строчные\n",
    "    capital = set('ЙЦУКЕНГШЩЗХЪФЫВАПРОЛДЖЭЯЧСМИТЬБЮЁ')              #заглавные\n",
    "    \n",
    "    for i in range(0, len(inp_string)):\n",
    "        if(inp_string[i] in vowel):\n",
    "            countVOW = countVOW + 1\n",
    "        if(inp_string[i] in consonant):\n",
    "            countCON = countCON + 1\n",
    "        if(inp_string[i] in digit):\n",
    "            countDIG = countDIG + 1\n",
    "        if(inp_string[i] in lower):\n",
    "            countLOW = countLOW + 1\n",
    "        if(inp_string[i] in capital):\n",
    "            countCAP = countCAP + 1\n",
    "            \n",
    "    result = (countVOW, countCON, countDIG, countLOW, countCAP)\n",
    "    \n",
    "    print(result)\n",
    "    \n",
    "    return result"
   ]
  },
  {
   "cell_type": "code",
   "execution_count": 4,
   "metadata": {},
   "outputs": [
    {
     "name": "stdout",
     "output_type": "stream",
     "text": [
      "(2, 4, 0, 5, 1)\n",
      "(3, 3, 1, 3, 3)\n",
      "(4, 5, 4, 5, 4)\n",
      "(4, 7, 3, 2, 9)\n",
      "(0, 0, 0, 0, 0)\n"
     ]
    }
   ],
   "source": [
    "assert string_stat(\"Тевирп\") == (2, 4, 0, 5, 1)\n",
    "assert string_stat(\"КоРоВа4\") == (3, 3, 1, 3, 3)\n",
    "\n",
    "#TODO 2 своих теста\n",
    "\n",
    "assert string_stat(\"РАнк7а675раОР\") == (4, 5, 4, 5, 4)\n",
    "assert string_stat(\"ПРИРН755ПРАКао\") == (4, 7, 3, 2, 9)\n",
    "assert string_stat(\"\") == (0, 0, 0, 0, 0)"
   ]
  },
  {
   "cell_type": "markdown",
   "metadata": {},
   "source": [
    "# Воскресенье - ВЫХОДНОЙ"
   ]
  },
  {
   "cell_type": "markdown",
   "metadata": {},
   "source": [
    "# Понедельник"
   ]
  },
  {
   "cell_type": "code",
   "execution_count": 15,
   "metadata": {},
   "outputs": [],
   "source": [
    "#TODO инвертируйте словарь из k - [v_1, v_2] в v_1 [k_1]\n",
    "def dict_inverter(input_dict):  \n",
    "    result = dict()\n",
    "    for key, value in input_dict.items():\n",
    "        for i in range(len(value)):\n",
    "            nitem = {value[i]:key}\n",
    "            if (not value[i] in result):\n",
    "                result = {**result, **nitem}\n",
    "            else:\n",
    "                nitem = {value[i]:[key, result[value[i]]]}\n",
    "                result = {**result, **nitem}\n",
    "    print(result)\n",
    "    return result"
   ]
  },
  {
   "cell_type": "code",
   "execution_count": 21,
   "metadata": {},
   "outputs": [
    {
     "name": "stdout",
     "output_type": "stream",
     "text": [
      "{'eatable': 'mango', 'sleepable': 'pillow'}\n",
      "{'eatable': 'mango', 'readable': 'mango'}\n",
      "{'eatable': ['banana', 'mango']}\n",
      "{'eatable': ['banana', 'mango']}\n",
      "{'v1': 'key1', 'v2': 'key1', 'v3': 'key1', 'v4': 'key2'}\n"
     ]
    }
   ],
   "source": [
    "assert dict_inverter({\"mango\" : [\"eatable\"], \"pillow\": [\"sleepable\"]}) == {\"eatable\": \"mango\", \"sleepable\": \"pillow\"}\n",
    "assert dict_inverter({\"mango\" : [\"eatable\", \"readable\"]}) == {\"readable\":\"mango\", \"eatable\":\"mango\"}\n",
    "assert (dict_inverter({\"mango\" : [\"eatable\"], \"banana\": [\"eatable\"]}) == {\"eatable\": [\"mango\", \"banana\"]} or dict_inverter({\"mango\" : [\"eatable\"], \"banana\": [\"eatable\"]}) == {\"eatable\": [\"banana\", \"mango\"]})\n",
    "\n",
    "#TODO Один свой тест\n",
    "\n",
    "assert dict_inverter({\"key1\" : [\"v1\", \"v2\", \"v3\"], \"key2\" : [\"v4\"]}) == {\"v1\" : \"key1\", \"v2\" : \"key1\", \"v3\" : \"key1\", \"v4\" : \"key2\"}"
   ]
  },
  {
   "cell_type": "markdown",
   "metadata": {},
   "source": [
    "# Вторник"
   ]
  },
  {
   "cell_type": "code",
   "execution_count": 11,
   "metadata": {},
   "outputs": [],
   "source": [
    "#TODO вывести уникальные элементы массива\n",
    "def uniq_array(input_arr):\n",
    "    \n",
    "    result = list(set(input_arr))\n",
    "    \n",
    "    print(result)\n",
    "    \n",
    "    return result"
   ]
  },
  {
   "cell_type": "code",
   "execution_count": 12,
   "metadata": {},
   "outputs": [
    {
     "name": "stdout",
     "output_type": "stream",
     "text": [
      "[0]\n",
      "[0, 1, 2, 3]\n",
      "['f', 't']\n",
      "['rt']\n",
      "[]\n"
     ]
    }
   ],
   "source": [
    "assert uniq_array([0]) == [0]\n",
    "assert uniq_array([0, 1, 2, 3]) == [0, 1, 2, 3]\n",
    "assert (uniq_array([\"f\", \"t\", \"f\"]) == ['f', 't'] or uniq_array([\"f\", \"t\", \"f\"]) == ['t', 'f'])\n",
    "assert uniq_array(['rt', 'rt']) == ['rt']\n",
    "\n",
    "assert uniq_array([]) == []"
   ]
  },
  {
   "cell_type": "code",
   "execution_count": null,
   "metadata": {},
   "outputs": [],
   "source": []
  }
 ],
 "metadata": {
  "kernelspec": {
   "display_name": "Python 3",
   "language": "python",
   "name": "python3"
  },
  "language_info": {
   "codemirror_mode": {
    "name": "ipython",
    "version": 3
   },
   "file_extension": ".py",
   "mimetype": "text/x-python",
   "name": "python",
   "nbconvert_exporter": "python",
   "pygments_lexer": "ipython3",
   "version": "3.6.5"
  }
 },
 "nbformat": 4,
 "nbformat_minor": 2
}
